{
  "nbformat": 4,
  "nbformat_minor": 0,
  "metadata": {
    "colab": {
      "provenance": []
    },
    "kernelspec": {
      "name": "python3",
      "display_name": "Python 3"
    },
    "language_info": {
      "name": "python"
    }
  },
  "cells": [
    {
      "cell_type": "markdown",
      "source": [
        "# Setup Label Studio ML Backend"
      ],
      "metadata": {
        "id": "S-xQwp-ILJfl"
      }
    },
    {
      "cell_type": "code",
      "execution_count": null,
      "metadata": {
        "colab": {
          "base_uri": "https://localhost:8080/"
        },
        "id": "gTCAnsTv-9zM",
        "outputId": "36892499-a868-42a5-bba5-85617e7132cb"
      },
      "outputs": [
        {
          "output_type": "stream",
          "name": "stdout",
          "text": [
            "Mounted at /content/drive\n"
          ]
        }
      ],
      "source": [
        "# Mount google drive because it contains pre trained model files\n",
        "# which will be used in pre labelling\n",
        "\n",
        "from google.colab import drive\n",
        "drive.mount('/content/drive')"
      ]
    },
    {
      "cell_type": "code",
      "source": [
        "# Download the custom ml backend for label studio ui\n",
        "\n",
        "!git clone https://github.com/mrx7355608/labelstudio-ml-backend\n",
        "\n",
        "%cd /content/labelstudio-ml-backend\n",
        "!pip install -r requirements.txt\n",
        "!pip install redis rq ultralytics pyngrok"
      ],
      "metadata": {
        "id": "0gk8RDbS_POx"
      },
      "execution_count": null,
      "outputs": []
    },
    {
      "cell_type": "code",
      "source": [
        "# Get IP address of colab instance\n",
        "!ip a"
      ],
      "metadata": {
        "id": "8epP7gfqKcgW"
      },
      "execution_count": null,
      "outputs": []
    },
    {
      "cell_type": "code",
      "source": [
        "# Kill existing label studio ml backend running on port 9090\n",
        "!fuser -k 9090/tcp\n",
        "!kill -9 $(pgrep -f label-studio-ml)\n",
        "\n",
        "# Set the env variables\n",
        "import os\n",
        "os.environ[\"LABEL_STUDIO_API_KEY\"] = \"LABEL STUDIO LEGACY API KEY\"\n",
        "os.environ[\"LABEL_STUDIO_URL\"] = \"IP OF COLAB INSTANCE\"\n",
        "\n",
        "# Start the backend\n",
        "%cd /content\n",
        "!nohup label-studio-ml start labelstudio-ml-backend --port 9090 > backend.log 2>&1 &"
      ],
      "metadata": {
        "id": "ahvHndsXAJWT"
      },
      "execution_count": null,
      "outputs": []
    },
    {
      "cell_type": "code",
      "source": [
        "# See logs to troubleshoot errors\n",
        "!cat backend.log"
      ],
      "metadata": {
        "id": "KDOlRLZ3DXEJ"
      },
      "execution_count": null,
      "outputs": []
    },
    {
      "cell_type": "markdown",
      "source": [
        "# Setup Label Studio UI\n",
        "\n",
        "Now we need to setup label studio ui which will be used to label the dataset. Our Pre trained model and AWS S3 storage will connect to label studio ui. Then the model will be used to run predictions on the new dataset stored in AWS S3 bucket. After that we will download the Labelled dataset from Label Studio UI in `JSON` format"
      ],
      "metadata": {
        "id": "YfCqAuhGLZXs"
      }
    },
    {
      "cell_type": "code",
      "source": [
        "# First create a virtual environment \"venv\"\n",
        "!python -m venv venv"
      ],
      "metadata": {
        "id": "y76Q9iQuOy14"
      },
      "execution_count": null,
      "outputs": []
    },
    {
      "cell_type": "code",
      "source": [
        "# Install Label Studio UI for labelling dataset\n",
        "!source venv/bin/activate && pip install label-studio"
      ],
      "metadata": {
        "id": "l7bPI23iIc3m"
      },
      "execution_count": null,
      "outputs": []
    },
    {
      "cell_type": "code",
      "source": [
        "# Bypass csrf errors in label studio ui authentication by\n",
        "# allowing all ngrok domains\n",
        "\n",
        "!echo \"CSRF_TRUSTED_ORIGINS=['https://*.ngrok-free.app']\" >> venv/lib/python3.11/site-packages/label_studio/core/settings/label_studio.py"
      ],
      "metadata": {
        "id": "ztd8vWBBKpFx"
      },
      "execution_count": null,
      "outputs": []
    },
    {
      "cell_type": "code",
      "source": [
        "# Start Label Studio UI\n",
        "\n",
        "!source venv/bin/activate\n",
        "!nohup venv/bin/label-studio start --port 8081 &"
      ],
      "metadata": {
        "id": "9GJAQLpwNlMC"
      },
      "execution_count": null,
      "outputs": []
    },
    {
      "cell_type": "code",
      "source": [
        "# Expose label studio ui through ngrok because we cannot\n",
        "# run it on colab IP address\n",
        "\n",
        "from pyngrok import ngrok\n",
        "\n",
        "ngrok.set_auth_token(\"NGROK AUTH TOKEN\")\n",
        "public_url = ngrok.connect(8081, hostname=\"NGROK STATIC DOMAIN\")\n",
        "print(public_url)"
      ],
      "metadata": {
        "id": "sHMf8DKvMjmI"
      },
      "execution_count": null,
      "outputs": []
    },
    {
      "cell_type": "markdown",
      "source": [
        "# Stop everything before leaving colab"
      ],
      "metadata": {
        "id": "QsGoCqstND9f"
      }
    },
    {
      "cell_type": "code",
      "source": [
        "!fuser -k 8081/tcp\n",
        "!pkill -f ngrok\n",
        "!fuser -k 9090/tcp\n",
        "!kill -9 $(pgrep -f label-studio-ml)"
      ],
      "metadata": {
        "id": "zZiWmbGDNGwj"
      },
      "execution_count": null,
      "outputs": []
    }
  ]
}